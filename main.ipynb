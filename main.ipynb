{
 "cells": [
  {
   "attachments": {},
   "cell_type": "markdown",
   "metadata": {},
   "source": [
    "# Parking_Demand_Predict\n",
    "\n",
    "[주차수요 예측 AI 경진대회](https://dacon.io/competitions/official/235745/overview/description)"
   ]
  },
  {
   "cell_type": "code",
   "execution_count": null,
   "metadata": {},
   "outputs": [],
   "source": [
    "import pandas as pd\n",
    "import numpy as np\n",
    "import matplotlib.pyplot as plt\n",
    "import seaborn as sns\n",
    "\n",
    "\n",
    "pd.options.display.float_format = '{:.4f}'.format\n",
    "data_path = \"./data/\"\n",
    "train_file = f\"{data_path}train_V2.csv\"\n",
    "test_file = f\"{data_path}test_V2.csv\"\n",
    "sample_submit_file = f\"{data_path}sample_submission_V2.csv\""
   ]
  }
 ],
 "metadata": {
  "kernelspec": {
   "display_name": "AIS7",
   "language": "python",
   "name": "python3"
  },
  "language_info": {
   "name": "python",
   "version": "3.9.13 (main, Aug 25 2022, 23:51:50) [MSC v.1916 64 bit (AMD64)]"
  },
  "orig_nbformat": 4,
  "vscode": {
   "interpreter": {
    "hash": "6fe11dfc63e789712f819f0eab04a3070dc82d637138faaf6adf8e594ab8007f"
   }
  }
 },
 "nbformat": 4,
 "nbformat_minor": 2
}
